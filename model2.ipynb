{
 "cells": [
  {
   "cell_type": "code",
   "execution_count": 1,
   "metadata": {},
   "outputs": [],
   "source": [
    "import os\n",
    "from PIL import Image\n",
    "import numpy as np\n",
    "import shutil"
   ]
  },
  {
   "cell_type": "code",
   "execution_count": 3,
   "metadata": {},
   "outputs": [
    {
     "name": "stdout",
     "output_type": "stream",
     "text": [
      "class Cashew anthracnose contains 1729 files, 1729 are valid image files and 0 defective image files\n",
      "class Cashew gumosis contains 392 files, 392 are valid image files and 0 defective image files\n",
      "class Cashew healthy contains 1368 files, 1368 are valid image files and 0 defective image files\n",
      "class Cashew leaf miner contains 1378 files, 1378 are valid image files and 0 defective image files\n",
      "class Cashew red rust contains 1682 files, 1682 are valid image files and 0 defective image files\n",
      "class Cassava bacterial blight contains 2614 files, 2614 are valid image files and 0 defective image files\n",
      "class Cassava brown spot contains 1481 files, 1481 are valid image files and 0 defective image files\n",
      "class Cassava green mite contains 1015 files, 1015 are valid image files and 0 defective image files\n",
      "class Cassava healthy contains 1193 files, 1193 are valid image files and 0 defective image files\n",
      "class Cassava mosaic contains 1205 files, 1205 are valid image files and 0 defective image files\n",
      "class Maize fall armyworm contains 285 files, 285 are valid image files and 0 defective image files\n",
      "class Maize grasshoper contains 673 files, 673 are valid image files and 0 defective image files\n",
      "class Maize healthy contains 208 files, 204 are valid image files and 4 defective image files\n",
      "class Maize leaf beetle contains 948 files, 933 are valid image files and 15 defective image files\n",
      "class Maize leaf blight contains 1006 files, 990 are valid image files and 16 defective image files\n",
      "class Maize leaf spot contains 1259 files, 1239 are valid image files and 20 defective image files\n",
      "class Maize streak virus contains 979 files, 965 are valid image files and 14 defective image files\n",
      "class Tomato healthy contains 470 files, 466 are valid image files and 4 defective image files\n",
      "class Tomato leaf blight contains 1301 files, 1288 are valid image files and 13 defective image files\n",
      "class Tomato leaf curl contains 518 files, 511 are valid image files and 7 defective image files\n",
      "class Tomato septoria leaf spot contains 2743 files, 2743 are valid image files and 0 defective image files\n",
      "class Tomato verticulium wilt contains 773 files, 772 are valid image files and 1 defective image files\n",
      "the dataset contains 25220 image files, 25126 are valid image files and 94 are defective image files\n"
     ]
    }
   ],
   "source": [
    "data_dir=r'C:\\Users\\sreevishak\\Desktop\\DUK\\smart india\\archive'\n",
    "bad_img_list=[]\n",
    "total=0\n",
    "good=0\n",
    "bad=0\n",
    "classes=sorted(os.listdir(data_dir))\n",
    "for klass in classes:\n",
    "    good_class=0\n",
    "    bad_class=0\n",
    "    total_class=0\n",
    "    msg=f'processing class {klass}'\n",
    "    print(msg, '\\r', end= '')\n",
    "    classpath=os.path.join(data_dir, klass)\n",
    "    flist=sorted(os.listdir(classpath))\n",
    "    for f in flist:\n",
    "        total +=1\n",
    "        total_class +=1\n",
    "        fpath=os.path.join(classpath,f)\n",
    "        try:\n",
    "            img= Image.open(fpath) \n",
    "            array=np.asarray(img)\n",
    "            good +=1\n",
    "            good_class +=1\n",
    "        except:\n",
    "            bad_img_list.append(fpath)\n",
    "            bad +=1\n",
    "            bad_class +=1\n",
    "    \n",
    "    msg=f'class {klass} contains {total_class} files, {good_class} are valid image files and {bad_class} defective image files'\n",
    "    print (msg)\n",
    "msg=f'the dataset contains {total} image files, {good} are valid image files and {bad} are defective image files'\n",
    "print (msg)\n",
    "if bad>0:\n",
    "    ans=input('to print a list of defective image files enter P, to not print press Enter')\n",
    "    if ans == 'P' or ans == 'p':\n",
    "        for f in bad_img_list:\n",
    "            print (f)"
   ]
  },
  {
   "cell_type": "code",
   "execution_count": 5,
   "metadata": {},
   "outputs": [
    {
     "name": "stdout",
     "output_type": "stream",
     "text": [
      "25126 valid image files were stored in C:/Users/sreevishak/Desktop/DUK/smart india/archive\\corrected dataset\n"
     ]
    }
   ],
   "source": [
    "# this code creates a corrected dataset with the defective image files removed\n",
    "# you can use this dataset to create a model.\n",
    "working_dir=r'C:/Users/sreevishak/Desktop/DUK/smart india/archive'\n",
    "corrected_dir=os.path.join(working_dir, 'corrected dataset') # where the corrected dataset will be stored\n",
    "copied_count = 0\n",
    "if os.path.isdir(corrected_dir):\n",
    "    shutil.rmtree(corrected_dir) # make sure the corrected_dir is empty\n",
    "os.mkdir(corrected_dir)\n",
    "for klass in classes:\n",
    "    classpath=os.path.join(data_dir, klass)\n",
    "    dest_classpath=os.path.join(corrected_dir, klass)\n",
    "    os.mkdir(dest_classpath)\n",
    "    flist= os.listdir(classpath)\n",
    "    for f in flist:\n",
    "        fpath=os.path.join(classpath,f)\n",
    "        dest_fpath=os.path.join(dest_classpath,f)\n",
    "        if fpath not in bad_img_list:\n",
    "            shutil.copy(fpath, dest_fpath)\n",
    "            copied_count +=1\n",
    "msg=f'{copied_count} valid image files were stored in {corrected_dir}'\n",
    "print(msg)                                        "
   ]
  }
 ],
 "metadata": {
  "kernelspec": {
   "display_name": "base",
   "language": "python",
   "name": "python3"
  },
  "language_info": {
   "codemirror_mode": {
    "name": "ipython",
    "version": 3
   },
   "file_extension": ".py",
   "mimetype": "text/x-python",
   "name": "python",
   "nbconvert_exporter": "python",
   "pygments_lexer": "ipython3",
   "version": "3.11.7"
  }
 },
 "nbformat": 4,
 "nbformat_minor": 2
}
